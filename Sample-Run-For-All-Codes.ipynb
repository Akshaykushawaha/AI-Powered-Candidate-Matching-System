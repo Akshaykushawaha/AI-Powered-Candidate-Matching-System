{
 "cells": [
  {
   "cell_type": "markdown",
   "metadata": {},
   "source": [
    "# This File showcases the reults of the provided programs incase there are issues reciprocating it."
   ]
  },
  {
   "cell_type": "code",
   "execution_count": null,
   "metadata": {},
   "outputs": [
    {
     "name": "stderr",
     "output_type": "stream",
     "text": [
      "c:\\Users\\aksha\\anaconda3\\envs\\test_env\\lib\\site-packages\\transformers\\utils\\generic.py:260: UserWarning: torch.utils._pytree._register_pytree_node is deprecated. Please use torch.utils._pytree.register_pytree_node instead.\n",
      "  torch.utils._pytree._register_pytree_node(\n",
      "Using cache found in C:\\Users\\aksha/.cache\\torch\\hub\\pytorch_vision_v0.10.0\n",
      ".\n",
      "----------------------------------------------------------------------\n",
      "Ran 1 test in 4.409s\n",
      "\n",
      "OK\n"
     ]
    }
   ],
   "source": [
    "!python tests/test_matching_engine.py"
   ]
  },
  {
   "cell_type": "code",
   "execution_count": null,
   "metadata": {},
   "outputs": [
    {
     "name": "stdout",
     "output_type": "stream",
     "text": [
      "=== Basic ATS Matching Engine Demo ===\n",
      "\n",
      "1. Single Candidate Matching\n",
      "\n",
      "Single Candidate Match Result:\n",
      "Overall Score: 0.72\n",
      "\n",
      "Detailed Breakdown:\n",
      "text_similarity: 0.87\n",
      "skills_match: 0.67\n",
      "experience_score: 0.60\n",
      "\n",
      "2. Multiple Candidates Ranking\n",
      "\n",
      "Multiple Candidates Ranking:\n",
      "--------------------------------------------------\n",
      "\n",
      "Rank 1: Candidate 3\n",
      "Overall Score: 0.75\n",
      "Breakdown:\n",
      "  text_similarity: 0.90\n",
      "  skills_match: 0.64\n",
      "  experience_score: 0.80\n",
      "\n",
      "Rank 2: Candidate 1\n",
      "Overall Score: 0.72\n",
      "Breakdown:\n",
      "  text_similarity: 0.87\n",
      "  skills_match: 0.67\n",
      "  experience_score: 0.60\n",
      "\n",
      "Rank 3: Candidate 2\n",
      "Overall Score: 0.67\n",
      "Breakdown:\n",
      "  text_similarity: 0.88\n",
      "  skills_match: 0.73\n",
      "  experience_score: 0.20\n",
      "\n",
      "\n",
      "\n",
      "\n",
      "\n",
      "\n",
      "\n",
      "\n",
      "\n",
      "\n",
      "\n",
      "\n",
      "\n",
      "\n",
      "\n",
      "\n",
      "\n",
      "\n",
      "\n",
      "\n",
      "\n"
     ]
    },
    {
     "name": "stderr",
     "output_type": "stream",
     "text": [
      "Using cache found in C:\\Users\\aksha/.cache\\torch\\hub\\pytorch_vision_v0.10.0\n",
      "Using cache found in C:\\Users\\aksha/.cache\\torch\\hub\\pytorch_vision_v0.10.0\n"
     ]
    }
   ],
   "source": [
    "!python examples/basic_usage.py"
   ]
  }
 ],
 "metadata": {
  "kernelspec": {
   "display_name": "test_env",
   "language": "python",
   "name": "python3"
  },
  "language_info": {
   "codemirror_mode": {
    "name": "ipython",
    "version": 3
   },
   "file_extension": ".py",
   "mimetype": "text/x-python",
   "name": "python",
   "nbconvert_exporter": "python",
   "pygments_lexer": "ipython3",
   "version": "3.9.18"
  }
 },
 "nbformat": 4,
 "nbformat_minor": 2
}
